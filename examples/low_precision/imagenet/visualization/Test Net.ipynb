{
 "metadata": {
  "name": "",
  "signature": "sha256:559c3d775d882e8e3439ec37ecae4a30646fb3d2fbceda93797e63d4d600efe2"
 },
 "nbformat": 3,
 "nbformat_minor": 0,
 "worksheets": [
  {
   "cells": [
    {
     "cell_type": "code",
     "collapsed": false,
     "input": [
      "# set up Python environment: numpy for numerical routines, and matplotlib for plotting\n",
      "import numpy as np\n",
      "import matplotlib.pyplot as plt\n",
      "import caffe\n",
      "# display plots in this notebook\n",
      "%matplotlib inline\n",
      "\n",
      "# set display defaults\n",
      "plt.rcParams['figure.figsize'] = (10, 10)        # large images\n",
      "plt.rcParams['image.interpolation'] = 'nearest'  # don't interpolate: show square pixels\n",
      "plt.rcParams['image.cmap'] = 'gray'  # use grayscale output rather than a (potentially misleading) color heatmap"
     ],
     "language": "python",
     "metadata": {},
     "outputs": [],
     "prompt_number": 3
    },
    {
     "cell_type": "code",
     "collapsed": false,
     "input": [
      "caffe.set_mode_gpu()\n",
      "caffe.set_device(0)\n",
      "caffe_root = '/home/moritz/Repositories/caffe_lp/'\n",
      "model_root = 'examples/low_precision/imagenet/models/'\n",
      "\n",
      "model_def = caffe_root + model_root + 'VGG16_deploy.prototxt'\n",
      "# model_weights = caffe_root + 'data/ILSVRC2015/Snapshots/LP_VGG16' + ''\n",
      "model_weights = '/home/moritz/Downloads/VGG16_tmp/VGG_ILSVRC_16_layers.caffemodel'\n",
      "net = caffe.Net(model_def,      # defines the structure of the model\n",
      "                model_weights,  # contains the trained weights\n",
      "                caffe.TEST)     # use test mode (e.g., don't perform dropout)\n",
      "# set the size of the input (we can skip this if we're happy\n",
      "#  with the default; we can also change it later, e.g., for different batch sizes)\n",
      "net.blobs['data'].reshape(50,        # batch size\n",
      "                          3,         # 3-channel (BGR) images\n",
      "                          227, 227)  # image size is 227x227"
     ],
     "language": "python",
     "metadata": {},
     "outputs": []
    },
    {
     "cell_type": "code",
     "collapsed": false,
     "input": [
      "\n"
     ],
     "language": "python",
     "metadata": {},
     "outputs": []
    },
    {
     "cell_type": "code",
     "collapsed": false,
     "input": [],
     "language": "python",
     "metadata": {},
     "outputs": []
    }
   ],
   "metadata": {}
  }
 ]
}